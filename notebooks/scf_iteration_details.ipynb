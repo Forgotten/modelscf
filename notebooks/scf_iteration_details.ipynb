{
 "cells": [
  {
   "cell_type": "markdown",
   "metadata": {},
   "source": [
    "# Self Consistent Field Iteration \n",
    "\n",
    "In this notebook we briefly introduce the scf iteration, in its most simplified form. \n",
    "\n",
    "We start by importing all the necessary files and fields to run the scf iteration."
   ]
  },
  {
   "cell_type": "code",
   "execution_count": 1,
   "metadata": {
    "collapsed": true
   },
   "outputs": [],
   "source": [
    "include(\"../src/Atoms.jl\")\n",
    "include(\"../src/scfOptions.jl\")\n",
    "include(\"../src/Ham.jl\")\n",
    "include(\"../src/hartree_pot_bc.jl\")\n",
    "include(\"../src/pseudocharge.jl\")\n",
    "include(\"../src/getocc.jl\")\n",
    "include(\"../src/anderson_mix.jl\")\n",
    "\n",
    "using PyPlot\n",
    "\n",
    "dx = 1.0;\n",
    "Nunit = 32;\n",
    "Lat = 10;\n",
    "# using the default values in Lin's code\n",
    "YukawaK = 0.0100\n",
    "n_extra = 10; # QUESTION: I don't know where this comes from\n",
    "epsil0 = 10.0;\n",
    "T_elec = 100;\n",
    "\n",
    "kb = 3.1668e-6;\n",
    "au2K = 315774.67;\n",
    "Tbeta = au2K / T_elec;\n",
    "\n",
    "\n",
    "Ndist  = 1;   # Temporary variable\n",
    "Natoms = round(Integer, Nunit / Ndist);\n",
    "\n",
    "# Temp var, will be redefined by the size of R later.\n",
    "R = zeros(Natoms, 1); # this is defined as an 2D array\n",
    "for j = 1:Natoms\n",
    "  R[j] = (j-0.5)*Lat*Ndist+dx;\n",
    "end\n",
    "\n",
    "Natoms = size(R)[1];\n",
    "sigma  = ones(Natoms,1)*(2.0);  # insulator\n",
    "omega  = ones(Natoms,1)*0.03;\n",
    "Eqdist = ones(Natoms,1)*10.0;\n",
    "mass   = ones(Natoms,1)*42000.0;\n",
    "nocc   = ones(Natoms,1)*2;          # number of electrons per atom\n",
    "Z      = nocc;\n",
    "# creating an atom structure\n",
    "atoms = Atoms(Natoms, R, sigma,  omega,  Eqdist, mass, Z, nocc);"
   ]
  },
  {
   "cell_type": "markdown",
   "metadata": {},
   "source": [
    "The scf iteration aims to solve the minimization problem given by\n",
    "$$ \\min_{\\Psi^*\\Psi = I \\,\\, \\text{and} \\, \\,  \\rho = diag(\\Psi \\Psi^*)} \\Psi^* H[\\rho] \\Psi  $$\n",
    "\n",
    "Where $H[\\rho] \\psi = \\triangle \\psi + \\mathcal{V}_{\\text{tot}}[\\rho] \\psi $. Which can be rewritten as a non-lienar eigenvalue problem given by \n",
    "\n",
    "$$H[\\rho] \\Psi  = \\Psi \\Lambda, \\,\\, \\text{s.t.} \\,\\, \\rho = \\text{diag}(\\Psi \\Psi^*) \\,\\, \\text{and} \\, \\, \\Psi^*\\Psi = I $$\n",
    "\n",
    "where $\\Psi$ encodes the occupied orbitals, and $\\Lambda$ encodes the energy levels. The scf iteration aims to solve the non-linear eigenvalue problem by solving a sequence of linear eigenvalue problem, and updating the density in a self consistent fashion. \n",
    "\n",
    "We then define the Hamiltonian and we initialize it with a intial charge density. "
   ]
  },
  {
   "cell_type": "code",
   "execution_count": null,
   "metadata": {},
   "outputs": [],
   "source": [
    "ham = Ham(Lat, Nunit, n_extra, dx, atoms,YukawaK, epsil0, Tbeta)\n",
    "\n",
    "# total number of occupied orbitals\n",
    "Nocc = round(Integer, sum(atoms.nocc) / ham.nspin);\n",
    "\n",
    "# initialize the potentials within the Hemiltonian setting H[\\rho_0]\n",
    "init_pot!(ham, Nocc);"
   ]
  },
  {
   "cell_type": "code",
   "execution_count": null,
   "metadata": {
    "collapsed": true
   },
   "outputs": [],
   "source": []
  },
  {
   "cell_type": "code",
   "execution_count": null,
   "metadata": {},
   "outputs": [],
   "source": [
    "scfOpts = scfOptions();\n",
    "@show scfOpts"
   ]
  },
  {
   "cell_type": "markdown",
   "metadata": {},
   "source": [
    "The scf options are used to determine the different options within the scf iteration. In this case, we used two extra structures for the the inner level options. One encapsulates the options for the iterative linear eigensolver, and the second, encodes the information of the update of the potentials, given the update in the charge density. "
   ]
  },
  {
   "cell_type": "code",
   "execution_count": null,
   "metadata": {},
   "outputs": [],
   "source": [
    "eigOpts = eigOptions(scfOpts);\n",
    "mixOpts = andersonMixOptions(ham.Ns, scfOpts);"
   ]
  },
  {
   "cell_type": "markdown",
   "metadata": {},
   "source": [
    "each SCF iteration can be distilled to the following three steps:\n",
    "\n",
    "1) solve the linear eigenvalue problem\n",
    "$$H[\\rho_i] \\Psi_i  = \\Psi_i \\Lambda_i,$$\n",
    "\n",
    "2) update the electron density $\\rho_{i+1},$\n",
    "$$\\rho_{i+1} = \\text{diag} (\\Psi_i*\\Psi_i^*)$$\n",
    "\n",
    "3) update the potential, using the new density, which in a more general form is given by\n",
    "$$ \\mathcal{V}_{\\text{tot}}[\\rho_{i+1},\\rho_{i}],$$\n",
    "used the updated total potential within the Hamiltonian \n",
    "\n",
    "$$ H[\\rho_{i+1}] = \\triangle +\\mathcal{V}_{\\text{tot}}[\\rho_{i+1},\\rho_{i}] $$\n",
    "  \n",
    "repeat.\n"
   ]
  },
  {
   "cell_type": "markdown",
   "metadata": {},
   "source": [
    "Now we can start running the loop. The first step is to solve \n",
    "$$H[\\rho_i] \\Psi_i  = \\Psi_i \\Lambda_i,$$\n",
    "which is performed using the update_psi! function. This function, acts on the Ham object, and it updates the structure."
   ]
  },
  {
   "cell_type": "code",
   "execution_count": null,
   "metadata": {},
   "outputs": [],
   "source": [
    "update_psi!(ham, eigOpts);"
   ]
  },
  {
   "cell_type": "markdown",
   "metadata": {},
   "source": [
    "We can have access to $\\Psi_i$, by accessing the psi field, and we can have access to the diagonal of $\\Lambda_i$ using the ev field within the Ham struct. \n"
   ]
  },
  {
   "cell_type": "code",
   "execution_count": null,
   "metadata": {},
   "outputs": [],
   "source": [
    "Psi = ham.psi;\n",
    "ev  = ham.ev;"
   ]
  },
  {
   "cell_type": "markdown",
   "metadata": {},
   "source": [
    "In addition the Ham struct as been overloaded with multiplication by vector and matrices, then you can easily chec that ev are indeed the eigenvalues of $H[\\rho_i]$"
   ]
  },
  {
   "cell_type": "code",
   "execution_count": null,
   "metadata": {},
   "outputs": [],
   "source": [
    "norm(Psi'*(ham*Psi) - diagm(ev))"
   ]
  },
  {
   "cell_type": "markdown",
   "metadata": {},
   "source": [
    "and that $\\Psi$ have orthogonal colums"
   ]
  },
  {
   "cell_type": "code",
   "execution_count": null,
   "metadata": {},
   "outputs": [],
   "source": [
    "norm(Psi'*Psi - eye(size(Psi)[2]) ) "
   ]
  },
  {
   "cell_type": "markdown",
   "metadata": {},
   "source": [
    "Now that the $\\Psi_i$ have been updated we update the electron density. In this case we need the number of occupied orbital and a Ham class. "
   ]
  },
  {
   "cell_type": "code",
   "execution_count": null,
   "metadata": {},
   "outputs": [],
   "source": [
    "update_rho!(ham,Nocc);"
   ]
  },
  {
   "cell_type": "markdown",
   "metadata": {},
   "source": [
    "The function, updates $\\rho$ inside the Ham structure, which can be easily accesed by ham.rho, and we can plot it using PyPlot. "
   ]
  },
  {
   "cell_type": "code",
   "execution_count": null,
   "metadata": {},
   "outputs": [],
   "source": [
    "rho = ham.rho;\n",
    "plot(rho);"
   ]
  },
  {
   "cell_type": "markdown",
   "metadata": {},
   "source": [
    "Given that $\\rho$ has been updated, we can proceed to update the potentials. \n",
    "This is indeed fairly tricky. A naive update will cause the iteration to diverge. We do not dwel in the details for the uddate, we refer the interested reader to the notebook on mixing for further details. \n",
    "\n",
    "However, we can say that the potential takes the form $\\mathcal{V}_{\\text{tot}}[\\rho_{i+1}, \\rho_{i}]$ such that when the iteration has converged we have that $\\mathcal{V}_{\\text{tot}}[\\rho^*, \\rho^*] = \\mathcal{V}_{\\text{tot}}[\\rho^*]$. In this case, however, all the details are hidden in the update_vtot! function, which computes uses the new $rho$ to compute the new potential. (this has to be properly explained)"
   ]
  },
  {
   "cell_type": "code",
   "execution_count": null,
   "metadata": {},
   "outputs": [],
   "source": [
    "Verr = update_vtot!(ham, mixOpts)"
   ]
  },
  {
   "cell_type": "markdown",
   "metadata": {},
   "source": [
    "In addition, the function provides a normalized step in the potential. (the first one is very big, because we are almost dividing by zero), we stop the iteration one the step in the potential is below a certain threshold (given in the scfOptions)"
   ]
  },
  {
   "cell_type": "markdown",
   "metadata": {},
   "source": [
    "## SCF iteration\n",
    "\n",
    "Then we are ready to properly implement the iteration, which is given by"
   ]
  },
  {
   "cell_type": "code",
   "execution_count": null,
   "metadata": {},
   "outputs": [],
   "source": [
    "for ii = 2:scfOpts.scfiter\n",
    "    update_psi!(ham, eigOpts)\n",
    "    \n",
    "    update_rho!(ham,Nocc)\n",
    "    \n",
    "    Verr = update_vtot!(ham, mixOpts)\n",
    "    println(\"Error in the \", ii, \" iteration is \", Verr)\n",
    "    if scfOpts.SCFtol > Verr\n",
    "        break\n",
    "    end\n",
    "end"
   ]
  },
  {
   "cell_type": "markdown",
   "metadata": {},
   "source": [
    "Now we can for example see the charge density"
   ]
  },
  {
   "cell_type": "code",
   "execution_count": null,
   "metadata": {},
   "outputs": [],
   "source": [
    "rho = ham.rho;\n",
    "plot(rho);"
   ]
  },
  {
   "cell_type": "markdown",
   "metadata": {},
   "source": [
    "Moreover, we can extract the density matrix."
   ]
  },
  {
   "cell_type": "code",
   "execution_count": null,
   "metadata": {},
   "outputs": [],
   "source": [
    "Psi = ham.psi;\n",
    "P = Psi*Psi';\n",
    "imshow(P, extent=[0, 1, 0, 1])"
   ]
  },
  {
   "cell_type": "markdown",
   "metadata": {},
   "source": []
  },
  {
   "cell_type": "code",
   "execution_count": null,
   "metadata": {},
   "outputs": [],
   "source": []
  },
  {
   "cell_type": "code",
   "execution_count": null,
   "metadata": {
    "collapsed": true
   },
   "outputs": [],
   "source": []
  }
 ],
 "metadata": {
  "anaconda-cloud": {},
  "kernelspec": {
   "display_name": "Julia 0.6.2",
   "language": "julia",
   "name": "julia-0.6"
  },
  "language_info": {
   "file_extension": ".jl",
   "mimetype": "application/julia",
   "name": "julia",
   "version": "0.6.2"
  }
 },
 "nbformat": 4,
 "nbformat_minor": 2
}
