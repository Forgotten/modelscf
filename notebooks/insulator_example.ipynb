{
 "cells": [
  {
   "cell_type": "markdown",
   "metadata": {},
   "source": [
    "## Solving an insulator system\n",
    "\n",
    "### A quick guide to using this short julia code"
   ]
  },
  {
   "cell_type": "markdown",
   "metadata": {},
   "source": [
    "We first need to include all the necessary files, which are contained in the /src folder (this has to be properly encapsulated within a module)"
   ]
  },
  {
   "cell_type": "code",
   "execution_count": 4,
   "metadata": {},
   "outputs": [
    {
     "data": {
      "text/plain": [
       "anderson_mix (generic function with 1 method)"
      ]
     },
     "execution_count": 4,
     "metadata": {},
     "output_type": "execute_result"
    }
   ],
   "source": [
    "include(\"../src/Atoms.jl\")\n",
    "include(\"../src/scfOptions.jl\")\n",
    "include(\"../src/Ham.jl\")\n",
    "include(\"../src/hartree_pot_bc.jl\")\n",
    "include(\"../src/pseudocharge.jl\")\n",
    "include(\"../src/getocc.jl\")\n",
    "include(\"../src/anderson_mix.jl\")\n"
   ]
  },
  {
   "cell_type": "markdown",
   "metadata": {},
   "source": [
    "We initialize some constants for the computation, in particular: the discretization step in space $dx$, the number of units, and the size of the lattice. (to check with Lin)"
   ]
  },
  {
   "cell_type": "code",
   "execution_count": 5,
   "metadata": {
    "collapsed": true
   },
   "outputs": [],
   "source": [
    "dx = 1.0;\n",
    "Nunit = 32;\n",
    "Lat = 10;"
   ]
  },
  {
   "cell_type": "markdown",
   "metadata": {},
   "source": [
    "Furthermore we define several other variables, which need to be properly tuned. "
   ]
  },
  {
   "cell_type": "code",
   "execution_count": 6,
   "metadata": {
    "collapsed": true
   },
   "outputs": [],
   "source": [
    "YukawaK = 0.0100; # shift for the potential evaluation\n",
    "n_extra = 10;     # extra eigenvalues (above the occupation energy)\n",
    "epsil0 = 10.0;\n",
    "T_elec = 100;"
   ]
  },
  {
   "cell_type": "markdown",
   "metadata": {},
   "source": [
    "We define $\\beta = 1/T$ the inverse temperature."
   ]
  },
  {
   "cell_type": "code",
   "execution_count": 7,
   "metadata": {},
   "outputs": [],
   "source": [
    "kb = 3.1668e-6;\n",
    "au2K = 315774.67;\n",
    "Tbeta = au2K / T_elec;   # \\beta = 1/T"
   ]
  },
  {
   "cell_type": "markdown",
   "metadata": {},
   "source": [
    "We set the number of atoms in our linear molecule."
   ]
  },
  {
   "cell_type": "code",
   "execution_count": 8,
   "metadata": {
    "collapsed": true
   },
   "outputs": [],
   "source": [
    "Ndist  = 1;  \n",
    "Natoms = round(Integer, Nunit / Ndist);"
   ]
  },
  {
   "cell_type": "markdown",
   "metadata": {},
   "source": [
    "We define the position of the atoms in our molecule,"
   ]
  },
  {
   "cell_type": "code",
   "execution_count": 9,
   "metadata": {
    "collapsed": true
   },
   "outputs": [],
   "source": [
    "R = zeros(Natoms, 1); # this is defined as an 2D array\n",
    "for j = 1:Natoms\n",
    "  R[j] = (j-0.5)*Lat*Ndist+dx;\n",
    "end"
   ]
  },
  {
   "cell_type": "markdown",
   "metadata": {},
   "source": [
    "and then, several fields that will be encapsulated by an Atoms struct."
   ]
  },
  {
   "cell_type": "code",
   "execution_count": 10,
   "metadata": {
    "collapsed": true
   },
   "outputs": [],
   "source": [
    "Natoms = size(R)[1];\n",
    "sigma  = ones(Natoms,1)*(2.0);  # insulator\n",
    "omega  = ones(Natoms,1)*0.03;\n",
    "Eqdist = ones(Natoms,1)*10.0;\n",
    "mass   = ones(Natoms,1)*42000.0;\n",
    "nocc   = ones(Natoms,1)*2;          # number of electrons per atom\n",
    "Z      = nocc;"
   ]
  },
  {
   "cell_type": "markdown",
   "metadata": {},
   "source": [
    "Now that all the fields are properly defined, we construct a \"molecule\" by initializing an Atoms structure as follows:"
   ]
  },
  {
   "cell_type": "code",
   "execution_count": 11,
   "metadata": {
    "collapsed": true
   },
   "outputs": [],
   "source": [
    "atoms = Atoms(Natoms, R, sigma,  omega,  Eqdist, mass, Z, nocc);"
   ]
  },
  {
   "cell_type": "markdown",
   "metadata": {},
   "source": [
    "Finally, we allocate a Hamiltonian structure (Ham) that will contain all the necessary information about the system"
   ]
  },
  {
   "cell_type": "code",
   "execution_count": null,
   "metadata": {
    "collapsed": true
   },
   "outputs": [],
   "source": [
    "H = Ham(Lat, Nunit, n_extra, dx, atoms,YukawaK, epsil0, Tbeta);"
   ]
  },
  {
   "cell_type": "markdown",
   "metadata": {},
   "source": [
    "in which the Hamiltonian contains all the information to multiply it by a discretized wave function $H[\\rho] \\psi = \\triangle \\psi + \\mathcal{V}_{\\text{tol}}[\\rho] \\psi $. Now we need to compute the number of occupied states and then initilize the potentials within the Hamiltonian. "
   ]
  },
  {
   "cell_type": "code",
   "execution_count": null,
   "metadata": {
    "collapsed": true
   },
   "outputs": [],
   "source": [
    "# total number of occupied orbitals\n",
    "Nocc = round(Integer, sum(atoms.nocc) / H.nspin);\n",
    "\n",
    "# initialize the potentials within the Hamiltonian and setting H[\\rho_0]\n",
    "init_pot!(H, Nocc);"
   ]
  },
  {
   "cell_type": "markdown",
   "metadata": {},
   "source": [
    "Now, we can run the self consistent iteration, which aims to solve the following non-linear eigenvalue problem\n",
    "\n",
    "$$ \\min_{\\Psi^*\\Psi = I \\,\\, \\text{and} \\, \\,  \\rho = diag(\\Psi \\Psi^*)} \\Psi^* H[\\rho] \\Psi  $$\n",
    "\n",
    "However, there is many different options within the scf iteration to solve this problem. Them all the options are enconded in a structure called scfOptions, which needs to be initializad and fed to the scf iteration. "
   ]
  },
  {
   "cell_type": "code",
   "execution_count": 22,
   "metadata": {},
   "outputs": [
    {
     "data": {
      "text/plain": [
       "scfOptions(\"anderson\", 0.5, 10, 1.0e-7, 100, 1.0e-8, 100, \"eigs\")"
      ]
     },
     "execution_count": 22,
     "metadata": {},
     "output_type": "execute_result"
    }
   ],
   "source": [
    "scfOpts = scfOptions();"
   ]
  },
  {
   "cell_type": "markdown",
   "metadata": {},
   "source": [
    "Now, we run the scf iteration. In particular, it will modify the Hamiltonian structure, which contains all the necessary information, including $\\rho$, the eigenmodes $\\Psi$ among many others. "
   ]
  },
  {
   "cell_type": "code",
   "execution_count": 23,
   "metadata": {
    "collapsed": true
   },
   "outputs": [],
   "source": [
    "# running the scf iteration\n",
    "VtoterrHist = scf!(H, scfOpts);"
   ]
  },
  {
   "cell_type": "code",
   "execution_count": 24,
   "metadata": {
    "collapsed": true
   },
   "outputs": [],
   "source": [
    "using PyPlot"
   ]
  },
  {
   "cell_type": "markdown",
   "metadata": {},
   "source": [
    "ploting the eigenvalues for the insulator"
   ]
  },
  {
   "cell_type": "code",
   "execution_count": 3,
   "metadata": {},
   "outputs": [
    {
     "ename": "LoadError",
     "evalue": "\u001b[91mUndefVarError: plot not defined\u001b[39m",
     "output_type": "error",
     "traceback": [
      "\u001b[91mUndefVarError: plot not defined\u001b[39m",
      "",
      "Stacktrace:",
      " [1] \u001b[1minclude_string\u001b[22m\u001b[22m\u001b[1m(\u001b[22m\u001b[22m::String, ::String\u001b[1m)\u001b[22m\u001b[22m at \u001b[1m./loading.jl:522\u001b[22m\u001b[22m"
     ]
    }
   ],
   "source": [
    "plot(H.ev)"
   ]
  },
  {
   "cell_type": "code",
   "execution_count": null,
   "metadata": {
    "collapsed": true
   },
   "outputs": [],
   "source": []
  }
 ],
 "metadata": {
  "kernelspec": {
   "display_name": "Julia 0.6.2",
   "language": "julia",
   "name": "julia-0.6"
  },
  "language_info": {
   "file_extension": ".jl",
   "mimetype": "application/julia",
   "name": "julia",
   "version": "0.6.2"
  }
 },
 "nbformat": 4,
 "nbformat_minor": 2
}
